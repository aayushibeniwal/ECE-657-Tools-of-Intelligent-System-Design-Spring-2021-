{
 "cells": [
  {
   "cell_type": "markdown",
   "metadata": {
    "id": "oCDRQ5ZPSxrI"
   },
   "source": [
    "# Importing Resources \n"
   ]
  },
  {
   "cell_type": "code",
   "execution_count": 1,
   "metadata": {
    "id": "gKovuQ00SxrK"
   },
   "outputs": [],
   "source": [
    "import tensorflow as tf"
   ]
  },
  {
   "cell_type": "code",
   "execution_count": 2,
   "metadata": {
    "id": "-Ro-rEH4SxrL"
   },
   "outputs": [],
   "source": [
    "\n",
    "from tensorflow.keras.datasets import cifar10\n",
    "from sklearn.model_selection import train_test_split \n",
    "import matplotlib.pyplot as plt\n",
    "import numpy as np\n",
    "%matplotlib inline"
   ]
  },
  {
   "cell_type": "markdown",
   "metadata": {
    "id": "LNGssi08SxrL"
   },
   "source": [
    "The CIFAR10 has 50,000 32x32 color training images and <b>10,000 test images by default, labeled over 10 categories</b>. The training dataset is further split into 80-20 ratio to get <b>10,000 images in training set. The 10,000 images in testing set is used for validation</b>. The 10 classes of data is as follows: ['airplane','automobile','bird','cat','deer','dog','frog','horse','ship','truck']"
   ]
  },
  {
   "cell_type": "markdown",
   "metadata": {
    "id": "mGUqzd5uSxrM"
   },
   "source": [
    "# Loading Dataset"
   ]
  },
  {
   "cell_type": "code",
   "execution_count": 3,
   "metadata": {
    "id": "XnCzUObsSxrM"
   },
   "outputs": [],
   "source": [
    "(trainX, trainy), (validateX1, validatey1) = cifar10.load_data()\n",
    "class_names = ['airplane','automobile','bird','cat','deer','dog','frog','horse','ship','truck']"
   ]
  },
  {
   "cell_type": "markdown",
   "metadata": {
    "id": "rF5YdXpRSxrN"
   },
   "source": [
    "# Preprocessing\n"
   ]
  },
  {
   "cell_type": "markdown",
   "metadata": {
    "id": "A8IsMz5YSxrO"
   },
   "source": [
    "##  Splitting Dataset into Train - Validate - Test"
   ]
  },
  {
   "cell_type": "code",
   "execution_count": 4,
   "metadata": {
    "id": "bSv3i_PxSxrO"
   },
   "outputs": [],
   "source": [
    "# Splitting the training dataset to create new training and validation set\n",
    "trainX1,testX,trainy1,testy = train_test_split(trainX,trainy,test_size = 0.8,random_state = 100)"
   ]
  },
  {
   "cell_type": "code",
   "execution_count": 5,
   "metadata": {
    "colab": {
     "base_uri": "https://localhost:8080/"
    },
    "id": "oZGzzI3fSxrP",
    "outputId": "1ef7c92d-cddc-4c71-e322-e5bd1cc2e405"
   },
   "outputs": [
    {
     "name": "stdout",
     "output_type": "stream",
     "text": [
      "There are 10,000 images in the Training set\n",
      "There are 10,000 images in the Validation set\n",
      "There are 40,000 images in the test set\n"
     ]
    }
   ],
   "source": [
    "print('There are {:,} images in the Training set'.format(trainX1.shape[0]))\n",
    "print('There are {:,} images in the Validation set'.format(validateX1.shape[0]))\n",
    "print('There are {:,} images in the test set'.format(testX.shape[0]))"
   ]
  },
  {
   "cell_type": "markdown",
   "metadata": {
    "id": "-7_c9YHZSxrQ"
   },
   "source": [
    "## Normalization and Creating Batch"
   ]
  },
  {
   "cell_type": "code",
   "execution_count": 6,
   "metadata": {
    "colab": {
     "base_uri": "https://localhost:8080/"
    },
    "id": "iD6zE8FKSxrR",
    "outputId": "7bb740d2-c8b0-4765-b9be-9e861002c739"
   },
   "outputs": [
    {
     "name": "stdout",
     "output_type": "stream",
     "text": [
      "The shape of training dataset is:  (10000, 32, 32, 3)\n",
      "The shape of validation dataset is:  (10000, 32, 32, 3)\n"
     ]
    }
   ],
   "source": [
    "print(\"The shape of training dataset is: \", trainX1.shape)\n",
    "print(\"The shape of validation dataset is: \", validateX1.shape)\n",
    "# normalizing the values. The default range is 0-255. Thus on min-max normalization, the range would be 0-1\n",
    "trainX1 = trainX1.astype('float32')/255\n",
    "validateX1 = validateX1.astype('float32')/255\n",
    "testX = testX.astype('float32')/255\n"
   ]
  },
  {
   "cell_type": "code",
   "execution_count": 7,
   "metadata": {
    "id": "x8GN4F18SxrR"
   },
   "outputs": [],
   "source": [
    "\n",
    "# Creating batches of dataset.To do so, we have to convert the variable of type 'nparray'\n",
    "# to type 'tensor', which is done by using the command tf.data.Dataset.from_tensor_slices\n",
    "training_batch = tf.data.Dataset.from_tensor_slices((trainX1,trainy1)).batch(32)\n",
    "test_batch = tf.data.Dataset.from_tensor_slices((testX,testy))\n",
    "validation_batch = tf.data.Dataset.from_tensor_slices((validateX1,validatey1))"
   ]
  },
  {
   "cell_type": "markdown",
   "metadata": {
    "id": "BjNWJs-HSxrS"
   },
   "source": [
    "## Multi Layer Perceptron"
   ]
  },
  {
   "cell_type": "markdown",
   "metadata": {
    "id": "6ahJ5sKfSxrS"
   },
   "source": [
    "The multilayer perceptron is having 2 hidden layers, with each hidden layer having 512 nodes. Since there are 10 classes of data, the number of output nodes are 10. Each image is having 32 x 32 pixels with 3 colour layers (RGB). There there are\n",
    "32x32x3 = 3072 features per image. keras.sequential is used for sequential flow in the MLP. The flatten layer is used to reshape the input image. The dense layer is the hidden layer( inputs are no of nodes and activation function)"
   ]
  },
  {
   "cell_type": "code",
   "execution_count": 8,
   "metadata": {
    "colab": {
     "base_uri": "https://localhost:8080/"
    },
    "id": "zvkGzRU6SxrS",
    "outputId": "0d48b8e9-41c5-4cdd-ed4c-6f9478635b69"
   },
   "outputs": [
    {
     "name": "stdout",
     "output_type": "stream",
     "text": [
      "Model: \"sequential\"\n",
      "_________________________________________________________________\n",
      "Layer (type)                 Output Shape              Param #   \n",
      "=================================================================\n",
      "flatten (Flatten)            (None, 3072)              0         \n",
      "_________________________________________________________________\n",
      "dense (Dense)                (None, 512)               1573376   \n",
      "_________________________________________________________________\n",
      "dense_1 (Dense)              (None, 512)               262656    \n",
      "_________________________________________________________________\n",
      "dense_2 (Dense)              (None, 10)                5130      \n",
      "=================================================================\n",
      "Total params: 1,841,162\n",
      "Trainable params: 1,841,162\n",
      "Non-trainable params: 0\n",
      "_________________________________________________________________\n"
     ]
    }
   ],
   "source": [
    "tf.keras.backend.clear_session()\n",
    "mlp = tf.keras.Sequential([tf.keras.layers.Flatten(input_shape = (32,32,3)),\n",
    "                                tf.keras.layers.Dense(512,activation = 'sigmoid'),\n",
    "                                tf.keras.layers.Dense(512,activation = 'sigmoid'),\n",
    "                                tf.keras.layers.Dense(10,activation = 'softmax')])\n",
    "mlp.summary()"
   ]
  },
  {
   "cell_type": "markdown",
   "metadata": {
    "id": "xDX1WRVrSxrT"
   },
   "source": [
    "We are using sigmoid activation function for the hidden layers, as described in the question. The output layer is using softmax activation function since predicts the probability that the input belongs to a particular category. The output node with the highest probability value categorises the input. The weights and bias are automatically initialised\n"
   ]
  },
  {
   "cell_type": "code",
   "execution_count": 9,
   "metadata": {
    "id": "49M9Jw2USxrT"
   },
   "outputs": [],
   "source": [
    "# Using adam optimiser for weight training\n",
    "mlp.compile(optimizer='adam',\n",
    "              loss='sparse_categorical_crossentropy',\n",
    "              metrics=['accuracy'])"
   ]
  },
  {
   "cell_type": "code",
   "execution_count": 10,
   "metadata": {
    "colab": {
     "base_uri": "https://localhost:8080/"
    },
    "id": "jlFxc9VMSxrT",
    "outputId": "ebf6c158-a885-4b61-ea30-ceb38f155ff9"
   },
   "outputs": [
    {
     "name": "stdout",
     "output_type": "stream",
     "text": [
      "Epoch 1/5\n",
      "313/313 [==============================] - 8s 27ms/step - loss: 2.0743 - accuracy: 0.2302 - val_loss: 2.0363 - val_accuracy: 0.2522\n",
      "Epoch 2/5\n",
      "313/313 [==============================] - 8s 26ms/step - loss: 1.9160 - accuracy: 0.2967 - val_loss: 1.9920 - val_accuracy: 0.2862\n",
      "Epoch 3/5\n",
      "313/313 [==============================] - 8s 26ms/step - loss: 1.8510 - accuracy: 0.3243 - val_loss: 1.9345 - val_accuracy: 0.3099\n",
      "Epoch 4/5\n",
      "313/313 [==============================] - 8s 26ms/step - loss: 1.8051 - accuracy: 0.3430 - val_loss: 1.8424 - val_accuracy: 0.3361\n",
      "Epoch 5/5\n",
      "313/313 [==============================] - 8s 26ms/step - loss: 1.7579 - accuracy: 0.3590 - val_loss: 1.8275 - val_accuracy: 0.3450\n"
     ]
    }
   ],
   "source": [
    "Epoch = 5\n",
    "history_mlp = mlp.fit(training_batch,epochs=Epoch,validation_data=(validateX1,validatey1))"
   ]
  },
  {
   "cell_type": "code",
   "execution_count": 11,
   "metadata": {
    "colab": {
     "base_uri": "https://localhost:8080/",
     "height": 295
    },
    "id": "MdVZaa4ZSxrT",
    "outputId": "6b696b93-9d01-4c18-caba-5f2c7fa32e23"
   },
   "outputs": [
    {
     "data": {
      "image/png": "[encoded data removed]",
      "text/plain": [
       "<Figure size 432x288 with 1 Axes>"
      ]
     },
     "metadata": {
      "needs_background": "light"
     },
     "output_type": "display_data"
    }
   ],
   "source": [
    "# training Curve\n",
    "plt.plot([1,2,3,4,5],history_mlp.history['accuracy'])\n",
    "plt.title('Training accuracy for MLP')\n",
    "plt.ylabel('accuracy')\n",
    "plt.xlabel('epoch')\n",
    "plt.show()"
   ]
  },
  {
   "cell_type": "markdown",
   "metadata": {
    "id": "xeygWpDkwlXH"
   },
   "source": [
    "#### The training accuracy increases with the increasing value of epochs and is maximum at 5th epoch with its value approximating 35.95%"
   ]
  },
  {
   "cell_type": "code",
   "execution_count": 12,
   "metadata": {
    "colab": {
     "base_uri": "https://localhost:8080/",
     "height": 295
    },
    "id": "geUHKLnzT_rX",
    "outputId": "0e748bf6-b972-49dc-b999-cd2296bd984d"
   },
   "outputs": [
    {
     "data": {
      "image/png": "[encoded data removed]",
      "text/plain": [
       "<Figure size 432x288 with 1 Axes>"
      ]
     },
     "metadata": {
      "needs_background": "light"
     },
     "output_type": "display_data"
    }
   ],
   "source": [
    "# validation curve\n",
    "plt.plot([1,2,3,4,5],history_mlp.history['val_accuracy'])\n",
    "plt.title('validation accuracy for MLP')\n",
    "plt.ylabel('accuracy')\n",
    "plt.xlabel('epoch')\n",
    "plt.show()"
   ]
  },
  {
   "cell_type": "markdown",
   "metadata": {
    "id": "3qjFBs3-4BG2"
   },
   "source": [
    "#### The validation accuracy increases with epoch values, its max value is 34.56% for epoch = 5"
   ]
  },
  {
   "cell_type": "code",
   "execution_count": 16,
   "metadata": {
    "colab": {
     "base_uri": "https://localhost:8080/"
    },
    "id": "nAcB0vMWSxrU",
    "outputId": "89d7b4d2-5a37-4344-e0e2-682d659e7263"
   },
   "outputs": [
    {
     "name": "stdout",
     "output_type": "stream",
     "text": [
      "1250/1250 [==============================] - 14s 11ms/step - loss: 1.8381 - accuracy: 0.3393\n"
     ]
    }
   ],
   "source": [
    "loss_mlp_test,accuracy =mlp.evaluate(testX,testy) "
   ]
  },
  {
   "cell_type": "code",
   "execution_count": 17,
   "metadata": {
    "colab": {
     "base_uri": "https://localhost:8080/"
    },
    "id": "mYdhweaIUuKv",
    "outputId": "38108cf2-3e15-445d-b9a1-df36cca63804"
   },
   "outputs": [
    {
     "name": "stdout",
     "output_type": "stream",
     "text": [
      "The test accuracy for MLP is: 0.3393000066280365\n"
     ]
    }
   ],
   "source": [
    "print(\"The test accuracy for MLP is:\", acc_mlp_test)"
   ]
  },
  {
   "cell_type": "markdown",
   "metadata": {
    "id": "yIuJ0FBvSxrU"
   },
   "source": [
    "\n",
    "\n",
    "## Changing Hidden Layers and Nodes"
   ]
  },
  {
   "cell_type": "markdown",
   "metadata": {
    "id": "Na1mrQN1SxrU"
   },
   "source": [
    "### Changing Hidden Layers\n"
   ]
  },
  {
   "cell_type": "code",
   "execution_count": 18,
   "metadata": {
    "colab": {
     "base_uri": "https://localhost:8080/"
    },
    "id": "sfuJ6cx7SxrV",
    "outputId": "fc0452b2-c62f-4a13-b6c3-5d0ec5f3e7c2"
   },
   "outputs": [
    {
     "name": "stdout",
     "output_type": "stream",
     "text": [
      "---------------1 Hidden Layer ----------------------\n",
      "Epoch 1/5\n",
      "313/313 [==============================] - 4s 13ms/step - loss: 2.0762 - accuracy: 0.2525\n",
      "Epoch 2/5\n",
      "313/313 [==============================] - 4s 13ms/step - loss: 1.8741 - accuracy: 0.3196\n",
      "Epoch 3/5\n",
      "313/313 [==============================] - 4s 14ms/step - loss: 1.8052 - accuracy: 0.3498\n",
      "Epoch 4/5\n",
      "313/313 [==============================] - 4s 14ms/step - loss: 1.7592 - accuracy: 0.3668\n",
      "Epoch 5/5\n",
      "313/313 [==============================] - 4s 14ms/step - loss: 1.7192 - accuracy: 0.3850\n",
      "313/313 [==============================] - 2s 5ms/step - loss: 1.7528 - accuracy: 0.3757\n",
      "---------------3 Hidden Layer ----------------------\n",
      "Epoch 1/5\n",
      "313/313 [==============================] - 7s 22ms/step - loss: 2.1108 - accuracy: 0.2055\n",
      "Epoch 2/5\n",
      "313/313 [==============================] - 7s 22ms/step - loss: 1.9536 - accuracy: 0.2743\n",
      "Epoch 3/5\n",
      "313/313 [==============================] - 7s 21ms/step - loss: 1.8899 - accuracy: 0.3030\n",
      "Epoch 4/5\n",
      "313/313 [==============================] - 7s 21ms/step - loss: 1.8392 - accuracy: 0.3236\n",
      "Epoch 5/5\n",
      "313/313 [==============================] - 7s 21ms/step - loss: 1.8000 - accuracy: 0.3394\n",
      "313/313 [==============================] - 3s 9ms/step - loss: 1.8263 - accuracy: 0.3305\n",
      "---------------5 Hidden Layer ----------------------\n",
      "Epoch 1/5\n",
      "313/313 [==============================] - 9s 28ms/step - loss: 2.2158 - accuracy: 0.1468\n",
      "Epoch 2/5\n",
      "313/313 [==============================] - 9s 28ms/step - loss: 2.1046 - accuracy: 0.1743\n",
      "Epoch 3/5\n",
      "313/313 [==============================] - 9s 29ms/step - loss: 2.0901 - accuracy: 0.1755\n",
      "Epoch 4/5\n",
      "313/313 [==============================] - 9s 29ms/step - loss: 2.0718 - accuracy: 0.1832\n",
      "Epoch 5/5\n",
      "313/313 [==============================] - 9s 29ms/step - loss: 2.0612 - accuracy: 0.1859\n",
      "313/313 [==============================] - 4s 12ms/step - loss: 2.0719 - accuracy: 0.1946\n",
      "---------------10 Hidden Layer ----------------------\n",
      "Epoch 1/5\n",
      "313/313 [==============================] - 14s 43ms/step - loss: 2.3427 - accuracy: 0.0971\n",
      "Epoch 2/5\n",
      "313/313 [==============================] - 14s 43ms/step - loss: 2.3321 - accuracy: 0.0954\n",
      "Epoch 3/5\n",
      "313/313 [==============================] - 14s 44ms/step - loss: 2.3318 - accuracy: 0.0959\n",
      "Epoch 4/5\n",
      "313/313 [==============================] - 14s 43ms/step - loss: 2.3314 - accuracy: 0.0955\n",
      "Epoch 5/5\n",
      "313/313 [==============================] - 14s 44ms/step - loss: 2.3310 - accuracy: 0.0951\n",
      "313/313 [==============================] - 5s 16ms/step - loss: 2.3182 - accuracy: 0.1000\n"
     ]
    }
   ],
   "source": [
    "tf.keras.backend.clear_session()\n",
    "accuracy_layers = []\n",
    "# 1 hidden Layer\n",
    "model_layer4 = tf.keras.Sequential([tf.keras.layers.Flatten(input_shape = (32,32,3)),\n",
    "                                tf.keras.layers.Dense(512,activation = 'sigmoid'),tf.keras.layers.Dense(10,activation = 'softmax')])\n",
    "model_layer4.compile(optimizer='adam',loss='sparse_categorical_crossentropy',metrics=['accuracy'])\n",
    "print(\"---------------1 Hidden Layer ----------------------\")\n",
    "model_layer4.fit(training_batch, epochs=5)\n",
    "loss,acc = model_layer4.evaluate(validateX1,validatey1)\n",
    "accuracy_layers.append(acc)\n",
    "#2 hidden Layer\n",
    "accuracy_layers.append(accuracy)\n",
    "# 3 hidden Layer\n",
    "model_layer3 = tf.keras.Sequential([tf.keras.layers.Flatten(input_shape = (32,32,3)),\n",
    "                                tf.keras.layers.Dense(512,activation = 'sigmoid'),tf.keras.layers.Dense(512,activation = 'sigmoid'),\n",
    "                                tf.keras.layers.Dense(512,activation = 'sigmoid'),tf.keras.layers.Dense(10,activation = 'softmax')])\n",
    "model_layer3.compile(optimizer='adam',loss='sparse_categorical_crossentropy',metrics=['accuracy'])\n",
    "print(\"---------------3 Hidden Layer ----------------------\")\n",
    "model_layer3.fit(training_batch, epochs=5)\n",
    "loss,acc = model_layer3.evaluate(validateX1,validatey1)\n",
    "accuracy_layers.append(acc)\n",
    "# 5 hidden Layers\n",
    "model_layer1 = tf.keras.Sequential([tf.keras.layers.Flatten(input_shape = (32,32,3)),\n",
    "                                tf.keras.layers.Dense(512,activation = 'sigmoid'),tf.keras.layers.Dense(512,activation = 'sigmoid'),\n",
    "                                tf.keras.layers.Dense(512,activation = 'sigmoid'),tf.keras.layers.Dense(512,activation = 'sigmoid'),\n",
    "                                tf.keras.layers.Dense(512,activation = 'sigmoid'),tf.keras.layers.Dense(10,activation = 'softmax')])\n",
    "model_layer1.compile(optimizer='adam',loss='sparse_categorical_crossentropy',metrics=['accuracy'])\n",
    "print(\"---------------5 Hidden Layer ----------------------\")\n",
    "model_layer1.fit(training_batch, epochs=5)\n",
    "loss,acc = model_layer1.evaluate(validateX1,validatey1)\n",
    "accuracy_layers.append(acc)\n",
    "# 10 hidden layers\n",
    "model_layer2 = tf.keras.Sequential([tf.keras.layers.Flatten(input_shape = (32,32,3)),\n",
    "                                tf.keras.layers.Dense(512,activation = 'sigmoid'),tf.keras.layers.Dense(512,activation = 'sigmoid'),\n",
    "                                tf.keras.layers.Dense(512,activation = 'sigmoid'),tf.keras.layers.Dense(512,activation = 'sigmoid'),\n",
    "                                tf.keras.layers.Dense(512,activation = 'sigmoid'),tf.keras.layers.Dense(512,activation = 'sigmoid'),\n",
    "                                tf.keras.layers.Dense(512,activation = 'sigmoid'),tf.keras.layers.Dense(512,activation = 'sigmoid'),\n",
    "                                tf.keras.layers.Dense(512,activation = 'sigmoid'),tf.keras.layers.Dense(10,activation = 'softmax')])\n",
    "model_layer2.compile(optimizer='adam',loss='sparse_categorical_crossentropy',metrics=['accuracy'])\n",
    "print(\"---------------10 Hidden Layer ----------------------\")\n",
    "model_layer2.fit(training_batch, epochs=5)\n",
    "loss,acc = model_layer2.evaluate(validateX1,validatey1)\n",
    "accuracy_layers.append(acc)\n"
   ]
  },
  {
   "cell_type": "code",
   "execution_count": 19,
   "metadata": {
    "colab": {
     "base_uri": "https://localhost:8080/"
    },
    "id": "yPvw5YSaSxrV",
    "outputId": "34586445-49b9-4176-b53b-3c28684989a6"
   },
   "outputs": [
    {
     "data": {
      "text/plain": [
       "[0.3756999969482422,\n",
       " 0.3393000066280365,\n",
       " 0.3305000066757202,\n",
       " 0.19460000097751617,\n",
       " 0.10000000149011612]"
      ]
     },
     "execution_count": 19,
     "metadata": {},
     "output_type": "execute_result"
    }
   ],
   "source": [
    "accuracy_layers"
   ]
  },
  {
   "cell_type": "code",
   "execution_count": 20,
   "metadata": {
    "colab": {
     "base_uri": "https://localhost:8080/",
     "height": 295
    },
    "id": "g1L-0KYSSxrW",
    "outputId": "7dd95c21-a5c1-48c0-8098-16c89ae1e247"
   },
   "outputs": [
    {
     "data": {
      "image/png": "[encoded data removed]",
      "text/plain": [
       "<Figure size 432x288 with 1 Axes>"
      ]
     },
     "metadata": {
      "needs_background": "light"
     },
     "output_type": "display_data"
    }
   ],
   "source": [
    "plt.plot([1,2,3,5,10],accuracy_layers)\n",
    "plt.title('Hidden Layer vs Accuracy')\n",
    "plt.ylabel('accuracy')\n",
    "plt.xlabel('Hidden Layers')\n",
    "plt.show()"
   ]
  },
  {
   "cell_type": "markdown",
   "metadata": {
    "id": "YgRl9kbpSxrW"
   },
   "source": [
    "#### Thus as the number of hidden layer increases, the accuracy of the model decreases"
   ]
  },
  {
   "cell_type": "markdown",
   "metadata": {
    "id": "NxbkadozSxrW"
   },
   "source": [
    "### Changing Nodes "
   ]
  },
  {
   "cell_type": "markdown",
   "metadata": {
    "id": "c4JzdF9LSxrW"
   },
   "source": [
    "The number of hidden layers are kept at 2 since these values provides the highest accuracy for a given number of nodes"
   ]
  },
  {
   "cell_type": "code",
   "execution_count": 21,
   "metadata": {
    "colab": {
     "base_uri": "https://localhost:8080/"
    },
    "id": "-NHcMYx5SxrW",
    "outputId": "50ba3697-cff0-42de-9042-f9a32efc8cf3"
   },
   "outputs": [
    {
     "name": "stdout",
     "output_type": "stream",
     "text": [
      "------------------------- 128 nodes -----------------------------------\n",
      "Epoch 1/5\n",
      "313/313 [==============================] - 2s 6ms/step - loss: 2.1143 - accuracy: 0.2184\n",
      "Epoch 2/5\n",
      "313/313 [==============================] - 2s 5ms/step - loss: 1.9239 - accuracy: 0.2987\n",
      "Epoch 3/5\n",
      "313/313 [==============================] - 2s 5ms/step - loss: 1.8530 - accuracy: 0.3321\n",
      "Epoch 4/5\n",
      "313/313 [==============================] - 2s 8ms/step - loss: 1.7954 - accuracy: 0.3560\n",
      "Epoch 5/5\n",
      "313/313 [==============================] - 2s 7ms/step - loss: 1.7545 - accuracy: 0.3706\n",
      "313/313 [==============================] - 1s 2ms/step - loss: 1.7808 - accuracy: 0.3632\n",
      "------------------------- 256 nodes -----------------------------------\n",
      "Epoch 1/5\n",
      "313/313 [==============================] - 3s 8ms/step - loss: 2.0536 - accuracy: 0.2381\n",
      "Epoch 2/5\n",
      "313/313 [==============================] - 3s 8ms/step - loss: 1.9029 - accuracy: 0.3015\n",
      "Epoch 3/5\n",
      "313/313 [==============================] - 3s 8ms/step - loss: 1.8358 - accuracy: 0.3318\n",
      "Epoch 4/5\n",
      "313/313 [==============================] - 3s 8ms/step - loss: 1.7958 - accuracy: 0.3490\n",
      "Epoch 5/5\n",
      "313/313 [==============================] - 3s 8ms/step - loss: 1.7588 - accuracy: 0.3576\n",
      "313/313 [==============================] - 1s 4ms/step - loss: 1.7987 - accuracy: 0.3442\n",
      "------------------------- 1024 nodes -----------------------------------\n",
      "Epoch 1/5\n",
      "313/313 [==============================] - 13s 41ms/step - loss: 2.0983 - accuracy: 0.2322\n",
      "Epoch 2/5\n",
      "313/313 [==============================] - 11s 36ms/step - loss: 1.9158 - accuracy: 0.2985\n",
      "Epoch 3/5\n",
      "313/313 [==============================] - 12s 37ms/step - loss: 1.8457 - accuracy: 0.3201\n",
      "Epoch 4/5\n",
      "313/313 [==============================] - 12s 37ms/step - loss: 1.7980 - accuracy: 0.3403\n",
      "Epoch 5/5\n",
      "313/313 [==============================] - 12s 37ms/step - loss: 1.7573 - accuracy: 0.3533\n",
      "313/313 [==============================] - 3s 10ms/step - loss: 1.8309 - accuracy: 0.3327\n",
      "------------------------- 2048 nodes -----------------------------------\n",
      "Epoch 1/5\n",
      "313/313 [==============================] - 35s 113ms/step - loss: 2.2418 - accuracy: 0.1938\n",
      "Epoch 2/5\n",
      "313/313 [==============================] - 28s 89ms/step - loss: 1.9735 - accuracy: 0.2773\n",
      "Epoch 3/5\n",
      "313/313 [==============================] - 29s 91ms/step - loss: 1.8913 - accuracy: 0.3083\n",
      "Epoch 4/5\n",
      "313/313 [==============================] - 27s 86ms/step - loss: 1.8435 - accuracy: 0.3264\n",
      "Epoch 5/5\n",
      "313/313 [==============================] - 28s 89ms/step - loss: 1.8095 - accuracy: 0.3335\n",
      "313/313 [==============================] - 6s 19ms/step - loss: 1.8932 - accuracy: 0.3064\n"
     ]
    }
   ],
   "source": [
    "tf.keras.backend.clear_session()\n",
    "accuracy_nodes = []\n",
    "# 128 nodes \n",
    "print(\"------------------------- 128 nodes -----------------------------------\")\n",
    "model_nodes1 = tf.keras.Sequential([tf.keras.layers.Flatten(input_shape = (32,32,3)),\n",
    "                                tf.keras.layers.Dense(128,activation = 'sigmoid'),\n",
    "                                tf.keras.layers.Dense(128,activation = 'sigmoid'),\n",
    "                                tf.keras.layers.Dense(10,activation = 'softmax')])\n",
    "model_nodes1.compile(optimizer='adam',loss='sparse_categorical_crossentropy',metrics=['accuracy'])\n",
    "model_nodes1.fit(training_batch, epochs = 5)\n",
    "loss,acc = model_nodes1.evaluate(validateX1,validatey1)\n",
    "accuracy_nodes.append(acc)\n",
    "# 256 nodes \n",
    "print(\"------------------------- 256 nodes -----------------------------------\")\n",
    "model_nodes2 = tf.keras.Sequential([tf.keras.layers.Flatten(input_shape = (32,32,3)),\n",
    "                                tf.keras.layers.Dense(256,activation = 'sigmoid'),\n",
    "                                tf.keras.layers.Dense(256,activation = 'sigmoid'),\n",
    "                                tf.keras.layers.Dense(10,activation = 'softmax')])\n",
    "model_nodes2.compile(optimizer='adam',loss='sparse_categorical_crossentropy',metrics=['accuracy'])\n",
    "model_nodes2.fit(training_batch, epochs = 5)\n",
    "loss,acc = model_nodes2.evaluate(validateX1,validatey1)\n",
    "accuracy_nodes.append(acc)\n",
    "# 512 nodes\n",
    "accuracy_nodes.append(accuracy)\n",
    "# 1024 nodes \n",
    "print(\"------------------------- 1024 nodes -----------------------------------\")\n",
    "model_nodes3 = tf.keras.Sequential([tf.keras.layers.Flatten(input_shape = (32,32,3)),\n",
    "                                tf.keras.layers.Dense(1024,activation = 'sigmoid'),\n",
    "                                tf.keras.layers.Dense(1024,activation = 'sigmoid'),\n",
    "                                tf.keras.layers.Dense(10,activation = 'softmax')])\n",
    "model_nodes3.compile(optimizer='adam',loss='sparse_categorical_crossentropy',metrics=['accuracy'])\n",
    "model_nodes3.fit(training_batch, epochs = 5)\n",
    "loss,acc = model_nodes3.evaluate(validateX1,validatey1)\n",
    "accuracy_nodes.append(acc)\n",
    "# 2048 nodes \n",
    "print(\"------------------------- 2048 nodes -----------------------------------\")\n",
    "model_nodes4 = tf.keras.Sequential([tf.keras.layers.Flatten(input_shape = (32,32,3)),\n",
    "                                tf.keras.layers.Dense(2048,activation = 'sigmoid'),\n",
    "                                tf.keras.layers.Dense(2048,activation = 'sigmoid'),\n",
    "                                tf.keras.layers.Dense(10,activation = 'softmax')])\n",
    "model_nodes4.compile(optimizer='adam',loss='sparse_categorical_crossentropy',metrics=['accuracy'])\n",
    "model_nodes4.fit(training_batch, epochs = 5)\n",
    "loss,acc = model_nodes4.evaluate(validateX1,validatey1)\n",
    "accuracy_nodes.append(acc)\n",
    "\n"
   ]
  },
  {
   "cell_type": "code",
   "execution_count": 22,
   "metadata": {
    "colab": {
     "base_uri": "https://localhost:8080/"
    },
    "id": "t17c18V0SxrW",
    "outputId": "41b79b4d-9710-4ed2-caa8-d93da030ef58"
   },
   "outputs": [
    {
     "data": {
      "text/plain": [
       "[0.36320000886917114,\n",
       " 0.3441999852657318,\n",
       " 0.3393000066280365,\n",
       " 0.3327000141143799,\n",
       " 0.30640000104904175]"
      ]
     },
     "execution_count": 22,
     "metadata": {},
     "output_type": "execute_result"
    }
   ],
   "source": [
    "accuracy_nodes"
   ]
  },
  {
   "cell_type": "code",
   "execution_count": 23,
   "metadata": {
    "colab": {
     "base_uri": "https://localhost:8080/",
     "height": 295
    },
    "id": "AgHBV_VQSxrX",
    "outputId": "395c8328-08f8-4ec9-f4ea-83eaefcd8415"
   },
   "outputs": [
    {
     "data": {
      "image/png": "[encoded data removed]",
      "text/plain": [
       "<Figure size 432x288 with 1 Axes>"
      ]
     },
     "metadata": {
      "needs_background": "light"
     },
     "output_type": "display_data"
    }
   ],
   "source": [
    "plt.plot([128,256,512,1024,2048],accuracy_nodes)\n",
    "plt.title('number of nodes vs Accuracy')\n",
    "plt.ylabel('accuracy')\n",
    "plt.xlabel('number of nodes')\n",
    "plt.show()"
   ]
  },
  {
   "cell_type": "markdown",
   "metadata": {
    "id": "Tja578L7SxrX"
   },
   "source": [
    "### The maximum accuracy is achieved when nodes are 256 and hidden layers 2"
   ]
  },
  {
   "cell_type": "markdown",
   "metadata": {
    "id": "01s3BP4oSxrX"
   },
   "source": [
    "# CNN 1"
   ]
  },
  {
   "cell_type": "code",
   "execution_count": 24,
   "metadata": {
    "colab": {
     "base_uri": "https://localhost:8080/"
    },
    "id": "WAA-rdfwSxrX",
    "outputId": "48c30b65-009e-41e3-fc33-6dc2063b2f2b"
   },
   "outputs": [
    {
     "name": "stdout",
     "output_type": "stream",
     "text": [
      "Model: \"sequential\"\n",
      "_________________________________________________________________\n",
      "Layer (type)                 Output Shape              Param #   \n",
      "=================================================================\n",
      "conv2d (Conv2D)              (None, 30, 30, 64)        1792      \n",
      "_________________________________________________________________\n",
      "conv2d_1 (Conv2D)            (None, 28, 28, 64)        36928     \n",
      "_________________________________________________________________\n",
      "flatten (Flatten)            (None, 50176)             0         \n",
      "_________________________________________________________________\n",
      "dense (Dense)                (None, 512)               25690624  \n",
      "_________________________________________________________________\n",
      "dense_1 (Dense)              (None, 512)               262656    \n",
      "_________________________________________________________________\n",
      "dense_2 (Dense)              (None, 10)                5130      \n",
      "=================================================================\n",
      "Total params: 25,997,130\n",
      "Trainable params: 25,997,130\n",
      "Non-trainable params: 0\n",
      "_________________________________________________________________\n"
     ]
    }
   ],
   "source": [
    "tf.keras.backend.clear_session()\n",
    "cnn1 = tf.keras.Sequential([ tf.keras.layers.Conv2D(64,(3,3),activation='relu',input_shape = (32,32,3)),\n",
    "                             tf.keras.layers.Conv2D(64,(3,3),activation='relu'),\n",
    "                              tf.keras.layers.Flatten(),\n",
    "                             tf.keras.layers.Dense(512,activation = 'sigmoid'),\n",
    "                             tf.keras.layers.Dense(512,activation = 'sigmoid'),\n",
    "                             tf.keras.layers.Dense(10,activation = 'softmax')])\n",
    "cnn1.summary()"
   ]
  },
  {
   "cell_type": "code",
   "execution_count": 25,
   "metadata": {
    "id": "O-CfsKA8SxrX"
   },
   "outputs": [],
   "source": [
    "cnn1.compile(optimizer='adam',\n",
    "              loss='sparse_categorical_crossentropy',\n",
    "              metrics=['accuracy'])"
   ]
  },
  {
   "cell_type": "code",
   "execution_count": 26,
   "metadata": {
    "colab": {
     "base_uri": "https://localhost:8080/"
    },
    "id": "y7V8ffUSSxrX",
    "outputId": "f1e69597-8188-4ec1-f6a9-66d694f379dd"
   },
   "outputs": [
    {
     "name": "stdout",
     "output_type": "stream",
     "text": [
      "Epoch 1/5\n",
      "313/313 [==============================] - 92s 295ms/step - loss: 1.8306 - accuracy: 0.3228 - val_loss: 1.5988 - val_accuracy: 0.4143\n",
      "Epoch 2/5\n",
      "313/313 [==============================] - 96s 308ms/step - loss: 1.3912 - accuracy: 0.4922 - val_loss: 1.4157 - val_accuracy: 0.4863\n",
      "Epoch 3/5\n",
      "313/313 [==============================] - 92s 294ms/step - loss: 1.1036 - accuracy: 0.6042 - val_loss: 1.3349 - val_accuracy: 0.5264\n",
      "Epoch 4/5\n",
      "313/313 [==============================] - 93s 298ms/step - loss: 0.7931 - accuracy: 0.7226 - val_loss: 1.5037 - val_accuracy: 0.5140\n",
      "Epoch 5/5\n",
      "313/313 [==============================] - 97s 309ms/step - loss: 0.4633 - accuracy: 0.8510 - val_loss: 1.5946 - val_accuracy: 0.5382\n"
     ]
    }
   ],
   "source": [
    "history1 = cnn1.fit(trainX1,trainy1,epochs=5,validation_data = (validateX1,validatey1))"
   ]
  },
  {
   "cell_type": "code",
   "execution_count": 27,
   "metadata": {
    "colab": {
     "base_uri": "https://localhost:8080/"
    },
    "id": "hzrxpRPcSxrX",
    "outputId": "fc82fb38-37b1-4cad-968b-14c8027afa09"
   },
   "outputs": [
    {
     "name": "stdout",
     "output_type": "stream",
     "text": [
      "313/313 [==============================] - 11s 36ms/step - loss: 1.5946 - accuracy: 0.5382\n"
     ]
    }
   ],
   "source": [
    "loss_cnn1_val,acccuracy_cnn1_val = cnn1.evaluate(validateX1,validatey1)"
   ]
  },
  {
   "cell_type": "code",
   "execution_count": 28,
   "metadata": {
    "id": "d8PRuLgOSxrX"
   },
   "outputs": [
    {
     "name": "stdout",
     "output_type": "stream",
     "text": [
      "1250/1250 [==============================] - 49s 39ms/step - loss: 1.5853 - accuracy: 0.5358\n"
     ]
    }
   ],
   "source": [
    "loss_cnn1_test,accuracy_cnn1_test = cnn1.evaluate(testX,testy)"
   ]
  },
  {
   "cell_type": "code",
   "execution_count": 29,
   "metadata": {
    "colab": {
     "base_uri": "https://localhost:8080/",
     "height": 295
    },
    "id": "i09c-bVwSxrX",
    "outputId": "dac0f033-f501-47f4-e7e0-60786176e8c0"
   },
   "outputs": [
    {
     "data": {
      "image/png": "[encoded data removed]",
      "text/plain": [
       "<Figure size 432x288 with 1 Axes>"
      ]
     },
     "metadata": {
      "needs_background": "light"
     },
     "output_type": "display_data"
    }
   ],
   "source": [
    "plt.plot([1,2,3,4,5],history1.history['accuracy'])\n",
    "plt.title('Training Curve for CNN1')\n",
    "plt.ylabel(' training accuracy')\n",
    "plt.xlabel('epoch')\n",
    "plt.show()"
   ]
  },
  {
   "cell_type": "markdown",
   "metadata": {
    "id": "dpSPzepR_cFl"
   },
   "source": [
    "#### The training curve for CNN1 shows that the accuracy increases with epoch and attains training accuracy of almot 90% at epoch = 5"
   ]
  },
  {
   "cell_type": "code",
   "execution_count": 30,
   "metadata": {
    "colab": {
     "base_uri": "https://localhost:8080/",
     "height": 295
    },
    "id": "qKgMvD6w7ARu",
    "outputId": "685ed3a7-aebe-4b82-bdaf-dfba58ea4c32"
   },
   "outputs": [
    {
     "data": {
      "image/png": "[encoded data removed]",
      "text/plain": [
       "<Figure size 432x288 with 1 Axes>"
      ]
     },
     "metadata": {
      "needs_background": "light"
     },
     "output_type": "display_data"
    }
   ],
   "source": [
    "plt.plot([1,2,3,4,5],history1.history['val_accuracy'])\n",
    "plt.title('Validation Curve for CNN1')\n",
    "plt.ylabel(' validation accuracy')\n",
    "plt.xlabel('epoch')\n",
    "plt.show()"
   ]
  },
  {
   "cell_type": "markdown",
   "metadata": {
    "id": "YTtyL3s8_8qP"
   },
   "source": [
    "#### The validation curve for CNN1 is gradually increasing with approx validation accuracy of 54% at eoch 3 and 5"
   ]
  },
  {
   "cell_type": "markdown",
   "metadata": {
    "id": "aklWtEekSxrX"
   },
   "source": [
    "## CNN2"
   ]
  },
  {
   "cell_type": "code",
   "execution_count": 31,
   "metadata": {
    "colab": {
     "base_uri": "https://localhost:8080/"
    },
    "id": "Of0ZdRApSxrY",
    "outputId": "655e8a5e-168a-4b91-c220-01718d4d243b"
   },
   "outputs": [
    {
     "name": "stdout",
     "output_type": "stream",
     "text": [
      "Model: \"sequential\"\n",
      "_________________________________________________________________\n",
      "Layer (type)                 Output Shape              Param #   \n",
      "=================================================================\n",
      "conv2d (Conv2D)              (None, 30, 30, 64)        1792      \n",
      "_________________________________________________________________\n",
      "max_pooling2d (MaxPooling2D) (None, 15, 15, 64)        0         \n",
      "_________________________________________________________________\n",
      "conv2d_1 (Conv2D)            (None, 13, 13, 64)        36928     \n",
      "_________________________________________________________________\n",
      "max_pooling2d_1 (MaxPooling2 (None, 6, 6, 64)          0         \n",
      "_________________________________________________________________\n",
      "flatten (Flatten)            (None, 2304)              0         \n",
      "_________________________________________________________________\n",
      "dense (Dense)                (None, 512)               1180160   \n",
      "_________________________________________________________________\n",
      "dropout (Dropout)            (None, 512)               0         \n",
      "_________________________________________________________________\n",
      "dense_1 (Dense)              (None, 512)               262656    \n",
      "_________________________________________________________________\n",
      "dropout_1 (Dropout)          (None, 512)               0         \n",
      "_________________________________________________________________\n",
      "dense_2 (Dense)              (None, 10)                5130      \n",
      "=================================================================\n",
      "Total params: 1,486,666\n",
      "Trainable params: 1,486,666\n",
      "Non-trainable params: 0\n",
      "_________________________________________________________________\n"
     ]
    }
   ],
   "source": [
    "tf.keras.backend.clear_session()\n",
    "cnn2 = tf.keras.Sequential([tf.keras.layers.Conv2D(64,(3,3),activation='relu',input_shape = (32,32,3)),\n",
    "                            tf.keras.layers.MaxPooling2D(pool_size=(2,2)),\n",
    "                            tf.keras.layers.Conv2D(64,(3,3),activation='relu'),\n",
    "                            tf.keras.layers.MaxPooling2D(pool_size=(2,2)),\n",
    "                            tf.keras.layers.Flatten(),\n",
    "                            tf.keras.layers.Dense(512,activation = 'sigmoid'),\n",
    "                            tf.keras.layers.Dropout(0.2),\n",
    "                            tf.keras.layers.Dense(512,activation = 'sigmoid'),\n",
    "                            tf.keras.layers.Dropout(0.2),\n",
    "                            tf.keras.layers.Dense(10,activation = 'softmax')])\n",
    "cnn2.summary()                                                          "
   ]
  },
  {
   "cell_type": "code",
   "execution_count": 32,
   "metadata": {
    "id": "7yfMI0LSSxrY"
   },
   "outputs": [],
   "source": [
    "cnn2.compile(optimizer='adam',\n",
    "              loss='sparse_categorical_crossentropy',\n",
    "              metrics=['accuracy'])"
   ]
  },
  {
   "cell_type": "code",
   "execution_count": 33,
   "metadata": {
    "colab": {
     "base_uri": "https://localhost:8080/"
    },
    "id": "irZWGVQdSxrY",
    "outputId": "a39c50de-c8ff-4476-861e-cfceaf4293d4"
   },
   "outputs": [
    {
     "name": "stdout",
     "output_type": "stream",
     "text": [
      "Epoch 1/5\n",
      "313/313 [==============================] - 23s 72ms/step - loss: 2.0062 - accuracy: 0.2459 - val_loss: 1.6371 - val_accuracy: 0.3890\n",
      "Epoch 2/5\n",
      "313/313 [==============================] - 19s 61ms/step - loss: 1.5718 - accuracy: 0.4189 - val_loss: 1.4689 - val_accuracy: 0.4592\n",
      "Epoch 3/5\n",
      "313/313 [==============================] - 21s 68ms/step - loss: 1.4053 - accuracy: 0.4899 - val_loss: 1.3358 - val_accuracy: 0.5120\n",
      "Epoch 4/5\n",
      "313/313 [==============================] - 22s 69ms/step - loss: 1.2829 - accuracy: 0.5315 - val_loss: 1.3873 - val_accuracy: 0.5168\n",
      "Epoch 5/5\n",
      "313/313 [==============================] - 21s 68ms/step - loss: 1.1790 - accuracy: 0.5760 - val_loss: 1.2819 - val_accuracy: 0.5396\n"
     ]
    }
   ],
   "source": [
    "history2 = cnn2.fit(trainX1,trainy1,epochs=5,validation_data = (validateX1,validatey1))"
   ]
  },
  {
   "cell_type": "code",
   "execution_count": 34,
   "metadata": {
    "colab": {
     "base_uri": "https://localhost:8080/",
     "height": 295
    },
    "id": "nrsSFIImSxrY",
    "outputId": "506278c9-9172-49f2-dc45-c046a5660e09"
   },
   "outputs": [
    {
     "data": {
      "image/png": "[encoded data removed]",
      "text/plain": [
       "<Figure size 432x288 with 1 Axes>"
      ]
     },
     "metadata": {
      "needs_background": "light"
     },
     "output_type": "display_data"
    }
   ],
   "source": [
    "plt.plot([1,2,3,4,5],history2.history['accuracy'])\n",
    "plt.title('training curve for CNN2')\n",
    "plt.ylabel('training accuracy')\n",
    "plt.xlabel('epoch')\n",
    "plt.show()"
   ]
  },
  {
   "cell_type": "markdown",
   "metadata": {
    "id": "I05sLuEWAMkS"
   },
   "source": [
    "#### The training curve for CNN2 show a sttep increase in training accuracy values, with max accouracy approximating 76% at epoch = 5"
   ]
  },
  {
   "cell_type": "code",
   "execution_count": 35,
   "metadata": {
    "colab": {
     "base_uri": "https://localhost:8080/",
     "height": 295
    },
    "id": "7c9AdwtXSxrY",
    "outputId": "9803573b-d320-4e04-edf6-fe818cf1e346"
   },
   "outputs": [
    {
     "data": {
      "image/png": "[encoded data removed]",
      "text/plain": [
       "<Figure size 432x288 with 1 Axes>"
      ]
     },
     "metadata": {
      "needs_background": "light"
     },
     "output_type": "display_data"
    }
   ],
   "source": [
    "plt.plot([1,2,3,4,5],history2.history['val_accuracy'])\n",
    "plt.title('Validation curve for CNN2')\n",
    "plt.ylabel(' Validation accuracy')\n",
    "plt.xlabel('epoch')\n",
    "plt.show()"
   ]
  },
  {
   "cell_type": "markdown",
   "metadata": {
    "id": "9_pFKsuOAan4"
   },
   "source": [
    "#### The validation curve for CNN2 shows that the validation accuracy is gradually increasing with accuracy of almost 60% at epoch = 5"
   ]
  },
  {
   "cell_type": "code",
   "execution_count": 36,
   "metadata": {
    "colab": {
     "base_uri": "https://localhost:8080/"
    },
    "id": "SbEnm76LSxrY",
    "outputId": "31c85eae-5d97-44c5-d44e-51c9100547dc"
   },
   "outputs": [
    {
     "name": "stdout",
     "output_type": "stream",
     "text": [
      "1250/1250 [==============================] - 17s 14ms/step - loss: 1.2918 - accuracy: 0.5376\n"
     ]
    }
   ],
   "source": [
    "loss_cnn2_test,accuracy_cnn2_test = cnn2.evaluate(testX,testy)"
   ]
  },
  {
   "cell_type": "code",
   "execution_count": 37,
   "metadata": {
    "colab": {
     "base_uri": "https://localhost:8080/"
    },
    "id": "UVle0Hbxdw1d",
    "outputId": "fceee221-e110-4ada-bc15-3d7154c648f9"
   },
   "outputs": [
    {
     "name": "stdout",
     "output_type": "stream",
     "text": [
      " The test accuracy for CNN2 is: 0.5376250147819519\n"
     ]
    }
   ],
   "source": [
    "print(\" The test accuracy for CNN2 is:\", accuracy_cnn2_test)"
   ]
  },
  {
   "cell_type": "markdown",
   "metadata": {
    "id": "raLl2dwXCngC"
   },
   "source": [
    "### Improved model for CNN2"
   ]
  },
  {
   "cell_type": "code",
   "execution_count": 38,
   "metadata": {
    "colab": {
     "base_uri": "https://localhost:8080/"
    },
    "id": "b6OPMq4Md5B_",
    "outputId": "567136a4-5611-4527-a196-791b32f9a82e"
   },
   "outputs": [
    {
     "name": "stdout",
     "output_type": "stream",
     "text": [
      "Model: \"sequential\"\n",
      "_________________________________________________________________\n",
      "Layer (type)                 Output Shape              Param #   \n",
      "=================================================================\n",
      "conv2d (Conv2D)              (None, 30, 30, 64)        1792      \n",
      "_________________________________________________________________\n",
      "max_pooling2d (MaxPooling2D) (None, 15, 15, 64)        0         \n",
      "_________________________________________________________________\n",
      "conv2d_1 (Conv2D)            (None, 13, 13, 64)        36928     \n",
      "_________________________________________________________________\n",
      "flatten (Flatten)            (None, 10816)             0         \n",
      "_________________________________________________________________\n",
      "dense (Dense)                (None, 512)               5538304   \n",
      "_________________________________________________________________\n",
      "dropout (Dropout)            (None, 512)               0         \n",
      "_________________________________________________________________\n",
      "dense_1 (Dense)              (None, 512)               262656    \n",
      "_________________________________________________________________\n",
      "dense_2 (Dense)              (None, 10)                5130      \n",
      "=================================================================\n",
      "Total params: 5,844,810\n",
      "Trainable params: 5,844,810\n",
      "Non-trainable params: 0\n",
      "_________________________________________________________________\n"
     ]
    }
   ],
   "source": [
    "tf.keras.backend.clear_session()\n",
    "cnn2_1 = tf.keras.Sequential([tf.keras.layers.Conv2D(64,(3,3),activation='relu',input_shape = (32,32,3)),\n",
    "                            tf.keras.layers.MaxPooling2D(pool_size=(2,2)),\n",
    "                            tf.keras.layers.Conv2D(64,(3,3),activation='relu'),\n",
    "                            tf.keras.layers.Flatten(),\n",
    "                            tf.keras.layers.Dense(512,activation = 'sigmoid'),\n",
    "                            tf.keras.layers.Dropout(0.2),\n",
    "                            tf.keras.layers.Dense(512,activation = 'sigmoid'),\n",
    "                            #tf.keras.layers.Dropout(0.2),\n",
    "                            tf.keras.layers.Dense(10,activation = 'softmax')])\n",
    "cnn2_1.summary() "
   ]
  },
  {
   "cell_type": "code",
   "execution_count": 39,
   "metadata": {
    "colab": {
     "base_uri": "https://localhost:8080/"
    },
    "id": "vjo0ozdLC_pt",
    "outputId": "e5c1d2c0-c042-4354-da1f-471ff57d608d"
   },
   "outputs": [
    {
     "name": "stdout",
     "output_type": "stream",
     "text": [
      "Epoch 1/5\n",
      "313/313 [==============================] - 33s 105ms/step - loss: 1.8406 - accuracy: 0.3091 - val_loss: 1.4644 - val_accuracy: 0.4709\n",
      "Epoch 2/5\n",
      "313/313 [==============================] - 31s 100ms/step - loss: 1.4415 - accuracy: 0.4752 - val_loss: 1.3352 - val_accuracy: 0.5125\n",
      "Epoch 3/5\n",
      "313/313 [==============================] - 32s 102ms/step - loss: 1.2481 - accuracy: 0.5496 - val_loss: 1.3970 - val_accuracy: 0.5085\n",
      "Epoch 4/5\n",
      "313/313 [==============================] - 32s 101ms/step - loss: 1.0601 - accuracy: 0.6235 - val_loss: 1.2479 - val_accuracy: 0.5608\n",
      "Epoch 5/5\n",
      "313/313 [==============================] - 31s 98ms/step - loss: 0.8633 - accuracy: 0.6959 - val_loss: 1.1802 - val_accuracy: 0.5915\n"
     ]
    }
   ],
   "source": [
    "cnn2_1.compile(optimizer='adam',loss='sparse_categorical_crossentropy', metrics=['accuracy'])\n",
    "history2 = cnn2_1.fit(trainX1,trainy1,epochs=5,validation_data = (validateX1,validatey1))"
   ]
  },
  {
   "cell_type": "code",
   "execution_count": null,
   "metadata": {
    "id": "ChoEUM1gC_r3"
   },
   "outputs": [],
   "source": []
  },
  {
   "cell_type": "code",
   "execution_count": null,
   "metadata": {
    "id": "9bR71rtsehc-"
   },
   "outputs": [],
   "source": []
  },
  {
   "cell_type": "markdown",
   "metadata": {
    "id": "FbBf4K9leeXJ"
   },
   "source": [
    "## Report"
   ]
  },
  {
   "cell_type": "markdown",
   "metadata": {
    "id": "RWInEOHYerkE"
   },
   "source": [
    "1. The dataset is downloaded for keras.datasets. This dataset contains 50,000 training images and 10,000 testing images by default. The training dataset is reduced to 10,000 values by using train_test_split method. The downloaded test dataset is used for validation. The 40,000 leftover data from the training set is used for testing. Thus we got 10,000 training data, 10,000 validation data and 40,000 testing data. The input dataset is normalized using min max normalization. Thus, the resulting value lies between 0-1. Batches of 32 are created on the train, validation and test. The default batch size for a model is 32.\n",
    "2. The output layer consists of 10 nodes since there are 10 categorical outputs. The activation function used here is softmax  which predicts the probability of the categorical output. This setting remains same for all the 3 networks since the target output is the same. The loss function used here is 'sparse_categorical_crossentropy' since the output values integers ranging from 1-10 and have probabilistic outputs.\n",
    "3.The training and testing accuracy is lowest for MLP. It attains an accuracy of around 36% for training dataset. The CNN1 attains an accuracy of 90% for training set and 53% for testing set. The CNN2 has an accuracy of 56% for training and 54% for testing dataset. There is a large difference in the training accuracy and testing accuracy of CNN1 which might be because of overfitting. This is removed in CNN2 by using Drop(0.2). Due to this, there is no much difference between training accuracy and test accuracy of CNN2. Thus the CNN2 performs the best amongst the 3 models.\n",
    "4. Changing the hidden layers and nodes will impact the accuracy of the model. For number of hidden layers ranging from 2-10, the accuracy is decreased as the hidden layer increases. This can also be seen in the hidden layer vs accuracy plot of MLP. Now for the best value of hidden layer i.e 2 the nodes are varied from 128 - 2048 ( discrete values are selected ). The accuracy decreases after a cetain increase in number of nodes and attains best value when number of nodes are 512. The nodes vs accuracy graph is plotted for better visualization. The training and validation curves are plotted and the model attains accuracy of 35.95 for training and 34.56 for validation. The test accuracy is 34.35.\n",
    "5. The training and validation curves are plotted for CNN1 and CNN2 using the hyper parameters stated in the question. The training time CNN1 is high when compared to that of CNN2. It takes almost 750 seconds to run CNN1 whereas it takes almost 150 seconds for CNN2. Thus CNN2 is almost 5 times faster than CNN1. This is because:\n",
    "CNN1 has 25,997,130 parameters to train whereas CNN2 has only 1,486,666 parameters. These values can be seen in the summary of the model. Thus the training parameters of CNN1 are almost 17 times more than CNN2 due to which the training time increases. The training parameters are calculated based on the architecture of the model. However, though the training time and parameters are large for CNN1, they produce better accuracy than CNN2. Increasing the number of epoch's will increase the accuracy till some extent and then it will almost remain constant no matter how much we increase the epoch values. \n",
    "6. From the changing accuracies of MLP for hidden layers and nodes, we concluded that hidden layer = 2 and hidden nodes = 512 gives max accuracy. This is what is specified in the problem statement as well. However, the sigmoid activation function reduces the accuracy. Thus, if we use Relu activation function for this dataset, the accuracy can be improved . When the CNN1 model was run on 40,000 training datasets, the average accuracy was 96% which shows that the given parameters are a perfect fit. It also proves the fact that 2 hidden layers provides a better accuracy for this dataset. Since the training dataset is reduced to 10,000 the accuracy is dropped to approx 90%. Thus, by changing the number of training samples accuracy of CNN1 can be improved. The case of overfitting can be removed by dropping some values by using the Drop() function. Similarly, accuracy the CNN2 model can be improved by removing the max pooling layer before the flatten command and remove droop(0.2) before output layer. By doing this, the accuracy almost improved by 15%. It can further be improved by increasing epochs and training samples\n"
   ]
  },
  {
   "cell_type": "code",
   "execution_count": null,
   "metadata": {
    "id": "8Rq7T2z7Xor3"
   },
   "outputs": [],
   "source": []
  }
 ],
 "metadata": {
  "colab": {
   "collapsed_sections": [
    "YgRl9kbpSxrW",
    "Tja578L7SxrX"
   ],
   "name": "one.ipynb",
   "provenance": []
  },
  "kernelspec": {
   "display_name": "Python 3",
   "language": "python",
   "name": "python3"
  },
  "language_info": {
   "codemirror_mode": {
    "name": "ipython",
    "version": 3
   },
   "file_extension": ".py",
   "mimetype": "text/x-python",
   "name": "python",
   "nbconvert_exporter": "python",
   "pygments_lexer": "ipython3",
   "version": "3.8.8"
  }
 },
 "nbformat": 4,
 "nbformat_minor": 1
}
